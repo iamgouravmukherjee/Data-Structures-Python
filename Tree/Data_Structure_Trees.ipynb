{
  "cells": [
    {
      "cell_type": "code",
      "execution_count": 1,
      "metadata": {
        "id": "rnpoZjlle-P2"
      },
      "outputs": [],
      "source": [
        "class Node:\n",
        "  def __init__(self, value):\n",
        "    self.value = value\n",
        "    self.left = None\n",
        "    self.right = None"
      ]
    },
    {
      "cell_type": "code",
      "execution_count": 4,
      "metadata": {
        "id": "4rb4SvGOfM7t"
      },
      "outputs": [],
      "source": [
        "a = Node(\"a\")\n",
        "b = Node(\"b\")\n",
        "c = Node(\"c\")\n",
        "d = Node(\"d\")\n",
        "e = Node(\"e\")\n",
        "f = Node(\"f\")\n",
        "\n",
        "a.left = b\n",
        "a.right = c\n",
        "b.left = d\n",
        "b.right = e\n",
        "c.left = f"
      ]
    },
    {
      "cell_type": "code",
      "execution_count": 3,
      "metadata": {
        "id": "pp9I5uqrfQk8"
      },
      "outputs": [],
      "source": [
        "def DFS(root):\n",
        "  if root is None:\n",
        "    return []\n",
        "\n",
        "  stack=[root]\n",
        "  nodes = []\n",
        "  while(len(stack)>0):\n",
        "    current = stack.pop()\n",
        "    nodes.append(current.value)\n",
        "\n",
        "    if (current.right is not None):\n",
        "      stack.append(current.right)\n",
        "\n",
        "    if(current.left is not None):\n",
        "      stack.append(current.left)\n",
        "\n",
        "  return nodes"
      ]
    },
    {
      "cell_type": "code",
      "execution_count": 7,
      "metadata": {
        "colab": {
          "base_uri": "https://localhost:8080/"
        },
        "id": "q-zDYM7hgEGj",
        "outputId": "2c4c9446-2d52-4700-ac3c-843c392d1855"
      },
      "outputs": [
        {
          "data": {
            "text/plain": [
              "['a', 'b', 'd', 'e', 'c', 'f']"
            ]
          },
          "execution_count": 7,
          "metadata": {},
          "output_type": "execute_result"
        }
      ],
      "source": [
        "DFS(a)"
      ]
    },
    {
      "cell_type": "code",
      "execution_count": 20,
      "metadata": {
        "id": "1ETY5RifgoHc"
      },
      "outputs": [],
      "source": [
        "def DFS_recursive(root, nodes=[]):\n",
        "  nodes.append(root.value)\n",
        "  if root.left is None and root.right is None:\n",
        "    return nodes\n",
        "\n",
        "  if(root.left is not None):\n",
        "    DFS_recursive(root.left, nodes)\n",
        "  if(root.right is not None):\n",
        "    DFS_recursive(root.right, nodes)\n",
        "\n",
        "  return nodes"
      ]
    },
    {
      "cell_type": "code",
      "execution_count": 28,
      "metadata": {
        "colab": {
          "base_uri": "https://localhost:8080/"
        },
        "id": "bu88fWWYnWmu",
        "outputId": "881960f9-3960-4920-e57b-6bd728893713"
      },
      "outputs": [
        {
          "data": {
            "text/plain": [
              "['a', 'b', 'd', 'e', 'c', 'f']"
            ]
          },
          "execution_count": 28,
          "metadata": {},
          "output_type": "execute_result"
        }
      ],
      "source": [
        "DFS_recursive(a)"
      ]
    },
    {
      "cell_type": "code",
      "execution_count": 24,
      "metadata": {
        "id": "BdIgagrylJtm"
      },
      "outputs": [],
      "source": [
        "def DFS_pre_order(root, nodes=[]):\n",
        "  if(root is None):\n",
        "    return nodes\n",
        "\n",
        "  nodes.append(root.value)\n",
        "\n",
        "  DFS_pre_order(root.left, nodes)\n",
        "  DFS_pre_order(root.right, nodes)\n",
        "\n",
        "  return nodes"
      ]
    },
    {
      "cell_type": "code",
      "execution_count": 25,
      "metadata": {
        "colab": {
          "base_uri": "https://localhost:8080/"
        },
        "id": "_Qr2L3yzg38b",
        "outputId": "ef31eb3e-12a2-4c2d-8281-197fbf46d5b9"
      },
      "outputs": [
        {
          "data": {
            "text/plain": [
              "['a', 'b', 'd', 'e', 'c', 'f']"
            ]
          },
          "execution_count": 25,
          "metadata": {},
          "output_type": "execute_result"
        }
      ],
      "source": [
        "DFS_pre_order(a)"
      ]
    },
    {
      "cell_type": "code",
      "execution_count": 35,
      "metadata": {
        "id": "1o8qWxsJm1es"
      },
      "outputs": [],
      "source": [
        "def DFS_post_order(root, nodes=[]):\n",
        "  if(root is None):\n",
        "    return nodes\n",
        "\n",
        "  DFS_post_order(root.left, nodes)\n",
        "  DFS_post_order(root.right, nodes)\n",
        "  nodes.append(root.value)\n",
        "\n",
        "  return nodes"
      ]
    },
    {
      "cell_type": "code",
      "execution_count": 36,
      "metadata": {
        "colab": {
          "base_uri": "https://localhost:8080/"
        },
        "id": "3dLaQ7e0nGCO",
        "outputId": "03fddc53-ca5c-480b-9fa9-c81936eed709"
      },
      "outputs": [
        {
          "data": {
            "text/plain": [
              "['d', 'e', 'b', 'f', 'c', 'a']"
            ]
          },
          "execution_count": 36,
          "metadata": {},
          "output_type": "execute_result"
        }
      ],
      "source": [
        "DFS_post_order(a)"
      ]
    },
    {
      "cell_type": "code",
      "execution_count": 37,
      "metadata": {
        "id": "_vqpvC2YocfO"
      },
      "outputs": [],
      "source": [
        "def DFS_in_order(root, nodes=[]):\n",
        "  if(root is None):\n",
        "    return nodes\n",
        "\n",
        "  DFS_in_order(root.left, nodes)\n",
        "  nodes.append(root.value)\n",
        "  DFS_in_order(root.right, nodes)\n",
        "\n",
        "  return nodes"
      ]
    },
    {
      "cell_type": "code",
      "execution_count": 38,
      "metadata": {
        "colab": {
          "base_uri": "https://localhost:8080/"
        },
        "id": "UJ-4DjnDog4C",
        "outputId": "03feb7ed-9352-4eb8-ea55-c84fa2bb60b0"
      },
      "outputs": [
        {
          "data": {
            "text/plain": [
              "['d', 'b', 'e', 'a', 'f', 'c']"
            ]
          },
          "execution_count": 38,
          "metadata": {},
          "output_type": "execute_result"
        }
      ],
      "source": [
        "DFS_in_order(a)"
      ]
    },
    {
      "cell_type": "markdown",
      "metadata": {
        "id": "ZjxMXMRqpHf8"
      },
      "source": [
        "###Tree sum:"
      ]
    },
    {
      "cell_type": "code",
      "execution_count": 48,
      "metadata": {
        "id": "3uHnE1Dyp2WD"
      },
      "outputs": [],
      "source": [
        "one = Node(1)\n",
        "two = Node(2)\n",
        "three = Node(3)\n",
        "four = Node(4)\n",
        "five = Node(5)"
      ]
    },
    {
      "cell_type": "code",
      "execution_count": 55,
      "metadata": {
        "id": "uY80Dc7wqQ_d"
      },
      "outputs": [],
      "source": [
        "one.left = (two)\n",
        "one.right = (three)\n",
        "two.left = (four)\n",
        "three.right = (five)"
      ]
    },
    {
      "cell_type": "code",
      "execution_count": 56,
      "metadata": {
        "id": "Cgg6QfhQpUPC"
      },
      "outputs": [],
      "source": [
        "def tree_sum(root, sum=0):\n",
        "  if root is None:\n",
        "    return sum\n",
        "  print('tree sum called', root.value)\n",
        "\n",
        "  return root.value + tree_sum(root.left, sum) + tree_sum(root.right, sum)"
      ]
    },
    {
      "cell_type": "code",
      "execution_count": 57,
      "metadata": {
        "colab": {
          "base_uri": "https://localhost:8080/"
        },
        "id": "CEtxivoVq5Dp",
        "outputId": "8fc3fc55-7dc8-42d9-cc65-d7c7c77d4d83"
      },
      "outputs": [
        {
          "name": "stdout",
          "output_type": "stream",
          "text": [
            "tree sum called 1\n",
            "tree sum called 2\n",
            "tree sum called 4\n",
            "tree sum called 3\n",
            "tree sum called 5\n"
          ]
        },
        {
          "data": {
            "text/plain": [
              "15"
            ]
          },
          "execution_count": 57,
          "metadata": {},
          "output_type": "execute_result"
        }
      ],
      "source": [
        "tree_sum(one)"
      ]
    },
    {
      "cell_type": "markdown",
      "metadata": {
        "id": "mTp3DKhatNwF"
      },
      "source": [
        "### Tree Includes"
      ]
    },
    {
      "cell_type": "code",
      "execution_count": 64,
      "metadata": {
        "id": "NlGM7tLItQd4"
      },
      "outputs": [],
      "source": [
        "one = Node(1)\n",
        "two = Node(2)\n",
        "three = Node(3)\n",
        "four = Node(4)\n",
        "five = Node(5)\n",
        "\n",
        "one.left = (two)\n",
        "one.right = (three)\n",
        "two.left = (four)\n",
        "three.right = (five)\n",
        "\n",
        "root = one"
      ]
    },
    {
      "cell_type": "code",
      "execution_count": 59,
      "metadata": {
        "id": "mpCYTzIxtTQG"
      },
      "outputs": [],
      "source": [
        "def tree_includes(root, key):\n",
        "  if(root is None):\n",
        "    return False\n",
        "\n",
        "  if(root.value == key):\n",
        "    return True\n",
        "\n",
        "  return tree_includes(root.left, key) or tree_includes(root.right, key)"
      ]
    },
    {
      "cell_type": "code",
      "execution_count": 67,
      "metadata": {
        "colab": {
          "base_uri": "https://localhost:8080/"
        },
        "id": "Hxyh5mEsuAXk",
        "outputId": "c6943878-9c45-471d-e6fc-271facd09a31"
      },
      "outputs": [
        {
          "data": {
            "text/plain": [
              "False"
            ]
          },
          "execution_count": 67,
          "metadata": {},
          "output_type": "execute_result"
        }
      ],
      "source": [
        "tree_includes(root, 27)"
      ]
    },
    {
      "cell_type": "markdown",
      "metadata": {
        "id": "vat4LMofu5nm"
      },
      "source": [
        "### Path Sum\n",
        "\n",
        "Given the root of a binary tree and an integer targetSum, return true if the tree has a root-to-leaf path such that adding up all the values along the path equals targetSum."
      ]
    },
    {
      "cell_type": "code",
      "execution_count": 68,
      "metadata": {
        "id": "eK3scH06vE6F"
      },
      "outputs": [],
      "source": [
        "one = Node(1)\n",
        "two = Node(2)\n",
        "three = Node(3)\n",
        "four = Node(4)\n",
        "five = Node(5)\n",
        "\n",
        "one.left = (two)\n",
        "one.right = (three)\n",
        "two.left = (four)\n",
        "three.right = (five)\n",
        "\n",
        "root = one"
      ]
    },
    {
      "cell_type": "code",
      "execution_count": 69,
      "metadata": {
        "id": "0HoAyLAQvH1B"
      },
      "outputs": [],
      "source": [
        "def path_sum(root, target, currentSum=0):\n",
        "  if(root is None):\n",
        "    return False\n",
        "\n",
        "  if(root.value + currentSum == target):\n",
        "    return True\n",
        "\n",
        "  return path_sum(root.left, currentSum=currentSum+root.value, target=target) or path_sum(root.right, currentSum=currentSum+root.value, target=target)"
      ]
    },
    {
      "cell_type": "code",
      "execution_count": 71,
      "metadata": {
        "colab": {
          "base_uri": "https://localhost:8080/"
        },
        "id": "LsrwXB8qwjPf",
        "outputId": "7dd9d763-6146-4329-90c5-c5e7192d00c0"
      },
      "outputs": [
        {
          "data": {
            "text/plain": [
              "False"
            ]
          },
          "execution_count": 71,
          "metadata": {},
          "output_type": "execute_result"
        }
      ],
      "source": [
        "path_sum(root, target=5)"
      ]
    }
  ],
  "metadata": {
    "colab": {
      "provenance": []
    },
    "kernelspec": {
      "display_name": "Python 3",
      "name": "python3"
    },
    "language_info": {
      "name": "python"
    }
  },
  "nbformat": 4,
  "nbformat_minor": 0
}
